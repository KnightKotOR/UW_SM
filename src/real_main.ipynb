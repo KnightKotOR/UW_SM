{
 "cells": [
  {
   "cell_type": "code",
   "execution_count": null,
   "id": "65b06fc9",
   "metadata": {},
   "outputs": [],
   "source": [
    "import numpy as np\n",
    "import pandas as pd\n",
    "import warnings\n",
    "import model_search\n",
    "\n",
    "from sklearn.preprocessing import StandardScaler\n",
    "from sklearn.model_selection import train_test_split\n",
    "\n",
    "warnings.filterwarnings(action=\"ignore\")"
   ]
  },
  {
   "cell_type": "code",
   "execution_count": null,
   "id": "08ea1335",
   "metadata": {},
   "outputs": [],
   "source": [
    "# Загрузка данных\n",
    "df = pd.read_csv('../data/real_ds_0.csv')\n",
    "columns = ['U','t','L','B','Pp','D']\n",
    "\n",
    "# Преобразование в массивы\n",
    "x_data = np.array(df[columns[:-1]].values.tolist())\n",
    "y_data = np.array(df[columns[-1]].values.tolist()).reshape([-1, 1])\n",
    "\n",
    "# Разделение на обучающую и тестовую выборки\n",
    "x_train, x_test, y_train, y_test = train_test_split(x_data, y_data, test_size=0.01, shuffle=True)\n",
    "\n",
    "# Нормализация\n",
    "scaler = StandardScaler()\n",
    "x_train = scaler.fit_transform(x_train)\n",
    "x_test = scaler.transform(x_test)"
   ]
  },
  {
   "cell_type": "code",
   "execution_count": null,
   "id": "c44b5deb",
   "metadata": {},
   "outputs": [],
   "source": [
    "# Классы моделей\n",
    "model_classes = ['HistGradientBoostingRegressor', 'XGBRegressor', \n",
    "                'RandomForestRegressor', 'CatBoostRegressor', 'ElasticNet',\n",
    "                'BayesianRidge']\n",
    "\n",
    "# Гиперпараметрический поиск и оценка моделей\n",
    "OS = model_search.OptunaSearchCV(model_classes, compare_kfold=False)\n",
    "OS.fit(x_train, y_train, x_test, y_test, ['loo'], n_trials=100, n_startup_trials=50)"
   ]
  },
  {
   "cell_type": "code",
   "execution_count": null,
   "id": "c41c47dd",
   "metadata": {},
   "outputs": [],
   "source": [
    "OS.results_df.to_csv('../results/real_results1.csv')"
   ]
  },
  {
   "cell_type": "code",
   "execution_count": null,
   "id": "0ec5c4c9",
   "metadata": {},
   "outputs": [],
   "source": [
    "df = pd.read_csv('../results/real_results1.csv')\n",
    "with pd.option_context('display.max_rows', None, 'display.max_columns', None):\n",
    "\tdisplay(df.sort_values(by=['R2_val'], ascending=False, na_position='last'))"
   ]
  },
  {
   "cell_type": "code",
   "execution_count": null,
   "id": "dcff0524",
   "metadata": {},
   "outputs": [],
   "source": [
    "# Оптимизация над аппроксимируемой функцией\n",
    "model = OS.best_models[1]\n",
    "\n",
    "OS.optimize([model], scaler, direction='maximize', problem='real', plot=True, n_trials=200)"
   ]
  }
 ],
 "metadata": {
  "kernelspec": {
   "display_name": "Python 3",
   "language": "python",
   "name": "python3"
  },
  "language_info": {
   "codemirror_mode": {
    "name": "ipython",
    "version": 3
   },
   "file_extension": ".py",
   "mimetype": "text/x-python",
   "name": "python",
   "nbconvert_exporter": "python",
   "pygments_lexer": "ipython3",
   "version": "3.12.9"
  }
 },
 "nbformat": 4,
 "nbformat_minor": 5
}
