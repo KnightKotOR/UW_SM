{
 "cells": [
  {
   "cell_type": "markdown",
   "metadata": {},
   "source": [
    "# Оптимизация"
   ]
  },
  {
   "cell_type": "code",
   "execution_count": null,
   "metadata": {},
   "outputs": [],
   "source": [
    "import numpy as np\n",
    "import pandas as pd\n",
    "import torch\n",
    "\n",
    "from scipy.optimize import minimize, basinhopping\n",
    "from sklearn.preprocessing import StandardScaler\n",
    "from sklearn.model_selection import train_test_split, GridSearchCV\n",
    "from sklearn.metrics import mean_squared_error as mse \n",
    "from sklearn.metrics import r2_score\n",
    "\n",
    "from nw_kernel import NWScikit\n",
    "\n",
    "from catboost import CatBoostRegressor "
   ]
  },
  {
   "cell_type": "code",
   "execution_count": 10,
   "metadata": {},
   "outputs": [
    {
     "data": {
      "text/html": [
       "<div>\n",
       "<style scoped>\n",
       "    .dataframe tbody tr th:only-of-type {\n",
       "        vertical-align: middle;\n",
       "    }\n",
       "\n",
       "    .dataframe tbody tr th {\n",
       "        vertical-align: top;\n",
       "    }\n",
       "\n",
       "    .dataframe thead th {\n",
       "        text-align: right;\n",
       "    }\n",
       "</style>\n",
       "<table border=\"1\" class=\"dataframe\">\n",
       "  <thead>\n",
       "    <tr style=\"text-align: right;\">\n",
       "      <th></th>\n",
       "      <th>x1</th>\n",
       "      <th>x2</th>\n",
       "      <th>x3</th>\n",
       "      <th>y</th>\n",
       "    </tr>\n",
       "  </thead>\n",
       "  <tbody>\n",
       "    <tr>\n",
       "      <th>0</th>\n",
       "      <td>56.567039</td>\n",
       "      <td>51.645444</td>\n",
       "      <td>63.818649</td>\n",
       "      <td>0.791216</td>\n",
       "    </tr>\n",
       "    <tr>\n",
       "      <th>1</th>\n",
       "      <td>9.811206</td>\n",
       "      <td>73.933886</td>\n",
       "      <td>99.861635</td>\n",
       "      <td>0.432769</td>\n",
       "    </tr>\n",
       "    <tr>\n",
       "      <th>2</th>\n",
       "      <td>95.315984</td>\n",
       "      <td>39.907571</td>\n",
       "      <td>5.629303</td>\n",
       "      <td>1.145016</td>\n",
       "    </tr>\n",
       "    <tr>\n",
       "      <th>3</th>\n",
       "      <td>52.790528</td>\n",
       "      <td>98.471771</td>\n",
       "      <td>2.766417</td>\n",
       "      <td>2.084271</td>\n",
       "    </tr>\n",
       "    <tr>\n",
       "      <th>4</th>\n",
       "      <td>19.596730</td>\n",
       "      <td>80.399587</td>\n",
       "      <td>3.699458</td>\n",
       "      <td>-1.098826</td>\n",
       "    </tr>\n",
       "  </tbody>\n",
       "</table>\n",
       "</div>"
      ],
      "text/plain": [
       "          x1         x2         x3         y\n",
       "0  56.567039  51.645444  63.818649  0.791216\n",
       "1   9.811206  73.933886  99.861635  0.432769\n",
       "2  95.315984  39.907571   5.629303  1.145016\n",
       "3  52.790528  98.471771   2.766417  2.084271\n",
       "4  19.596730  80.399587   3.699458 -1.098826"
      ]
     },
     "execution_count": 10,
     "metadata": {},
     "output_type": "execute_result"
    }
   ],
   "source": [
    "df = pd.read_csv('data/synth_ds_0.csv')\n",
    "df.head()"
   ]
  },
  {
   "cell_type": "code",
   "execution_count": 11,
   "metadata": {},
   "outputs": [],
   "source": [
    "# Преобразование в массивы\n",
    "x_data = np.array(df[['x1','x2','x3']].values.tolist())\n",
    "y_data = np.array(df['y'].values.tolist()).reshape([-1,1])\n",
    "#x_one_column = x_data.reshape([1, -1]) # Для нормализации преобразование в одномерный\n",
    "\n",
    "# Нормализация\n",
    "scaler = StandardScaler()\n",
    "x_norm = scaler.fit_transform(x_data)"
   ]
  },
  {
   "cell_type": "code",
   "execution_count": 12,
   "metadata": {},
   "outputs": [],
   "source": [
    "# Разделение на обучающую и тестовую выборки\n",
    "x_train, x_test, y_train, y_test = train_test_split(x_data, y_data, test_size=0.2, shuffle=True)"
   ]
  },
  {
   "cell_type": "code",
   "execution_count": 13,
   "metadata": {},
   "outputs": [],
   "source": [
    "# Преобразование в тензоры\n",
    "x_train_tensor = torch.tensor(x_train, dtype=torch.float32)\n",
    "x_test_tensor = torch.tensor(x_test, dtype=torch.float32)\n",
    "\n",
    "y_train_tensor = torch.tensor(y_train, dtype=torch.float32)\n",
    "y_test_tensor = torch.tensor(y_test, dtype=torch.float32)"
   ]
  },
  {
   "cell_type": "code",
   "execution_count": null,
   "metadata": {},
   "outputs": [],
   "source": [
    "# Поиск оптимальных параметров\n",
    "model = NWScikit(\n",
    "        dist_mode='nam',\n",
    "        batch_size=24,\n",
    "        x_val=x_train_tensor, y_val=y_train_tensor,\n",
    "        kernel_fit_background=True,\n",
    "        optimizer='Adam',\n",
    "        lr=1e-3,\n",
    "        weight_decay=0,\n",
    "        background_lr=1e-3,\n",
    "        background_weight_decay=0,\n",
    "        epoch_n=100,\n",
    "        pred_batch_size=16,\n",
    "        verbose=False,\n",
    "        verbose_tqdm=True,\n",
    "        n_neurons=8,\n",
    "        n_layers=3,\n",
    "        batch_norm=True,\n",
    "        problem_mode='reg'\n",
    "    )\n",
    "\n",
    "param_grid = {'batch_size': [16, 24, 50, 100, 200],\n",
    "              'dist_mode': ['nam', 'mlp'],\n",
    "\t\t\t  'epoch_n': [50, 75, 100, 200],\n",
    "\t\t\t  'n_neurons': [8, 16, 32, 64, 128, 256, 512],\n",
    "\t\t\t  'n_layers': [1, 2, 3, 4],\n",
    "\t\t\t  'optimizer': ['SGD', 'Adam']}\n",
    "\n",
    "#param_grid = {'batch_size': [16, 24, 50, 100, 200],\n",
    "#              'dist_mode': ['nam', 'mlp'],}\n",
    "\n",
    "search = GridSearchCV(model, param_grid, scoring='r2', n_jobs=-1)\n",
    "search.fit(X=pd.DataFrame(x_train_tensor), y=y_train_tensor.detach().cpu().numpy())\n",
    "results_df = pd.DataFrame(search.cv_results_)\n",
    "\n",
    "print(\"Best Parameters: \", search.best_params_)\n",
    "print(\"Best Cross-validation Score: \", search.best_score_)"
   ]
  },
  {
   "cell_type": "code",
   "execution_count": 14,
   "metadata": {},
   "outputs": [
    {
     "name": "stdout",
     "output_type": "stream",
     "text": [
      "[-1.46036073] -1.3653970308958652\n",
      "Training R2:  0.9915251902464296\n",
      "(array([0.45741923]), 0.2895841713468371)\n",
      "Testing R2:  0.7232323907530345\n"
     ]
    }
   ],
   "source": [
    "boost_model = \tCatBoostRegressor(\n",
    "\t\t\t\tloss_function='RMSE',\n",
    "\t\t\t\tdepth=4,\n",
    "\t\t\t\titerations=500,\n",
    "\t\t\t\trsm=1,\n",
    "\t\t\t\tleaf_estimation_iterations=20,\n",
    "\t\t\t\trandom_seed=42\n",
    "\t\t\t\t)\n",
    "\n",
    "boost_model.fit(x_train, y_train, verbose=0)\n",
    "\n",
    "y_train_pred = boost_model.predict(x_train) \n",
    "y_test_pred = boost_model.predict(x_test) \n",
    "\n",
    "print(y_train[0], y_train_pred[0])\n",
    "print(\"Training R2: \", r2_score(y_train, y_train_pred))\n",
    "print((y_test[0], y_test_pred[0]))\n",
    "print(\"Testing R2: \", r2_score(y_test, y_test_pred))"
   ]
  },
  {
   "cell_type": "code",
   "execution_count": null,
   "metadata": {},
   "outputs": [],
   "source": [
    "#boost_param_grid = {'iterations': [500],\n",
    "#          \t\t\t'depth': [2, 4, 8],\n",
    "#          \t\t\t'logging_level':['Silent'],\n",
    "#\t\t\t\t\t'rsm': [0.8, 1.0],\n",
    "#          \t\t\t'random_seed': [42]}\n",
    "\n",
    "#boost_search = GridSearchCV(boost_model, boost_param_grid, scoring='r2', n_jobs=-1)\n",
    "#boost_search.fit(X=pd.DataFrame(x_train_tensor), y=y_train_tensor.detach().cpu().numpy())\n",
    "\n",
    "#print(\"Best Parameters: \", boost_search.best_params_)\n",
    "#print(\"Best Cross-validation Score: \", boost_search.best_score_)"
   ]
  },
  {
   "cell_type": "code",
   "execution_count": null,
   "metadata": {},
   "outputs": [],
   "source": [
    "# MSE\n",
    "pd.concat([pd.DataFrame(search.cv_results_[\"params\"]),pd.DataFrame(search.cv_results_[\"mean_test_score\"], columns=[\"Accuracy\"])],axis=1).sort_values('Accuracy', ascending=False)"
   ]
  },
  {
   "cell_type": "code",
   "execution_count": null,
   "metadata": {},
   "outputs": [
    {
     "ename": "ValueError",
     "evalue": "Jacobian is required for Newton-CG method",
     "output_type": "error",
     "traceback": [
      "\u001b[31m---------------------------------------------------------------------------\u001b[39m",
      "\u001b[31mValueError\u001b[39m                                Traceback (most recent call last)",
      "\u001b[36mCell\u001b[39m\u001b[36m \u001b[39m\u001b[32mIn[32]\u001b[39m\u001b[32m, line 9\u001b[39m\n\u001b[32m      6\u001b[39m \t\u001b[38;5;28;01mreturn\u001b[39;00m y_pred\n\u001b[32m      8\u001b[39m initial_guess = np.mean(x_norm, axis=\u001b[32m0\u001b[39m)\n\u001b[32m----> \u001b[39m\u001b[32m9\u001b[39m result = \u001b[43mminimize\u001b[49m\u001b[43m(\u001b[49m\u001b[43mobjective\u001b[49m\u001b[43m,\u001b[49m\u001b[43m \u001b[49m\u001b[43minitial_guess\u001b[49m\u001b[43m,\u001b[49m\u001b[43m \u001b[49m\u001b[43margs\u001b[49m\u001b[43m=\u001b[49m\u001b[43m(\u001b[49m\u001b[43mboost_model\u001b[49m\u001b[43m)\u001b[49m\u001b[43m,\u001b[49m\u001b[43m \u001b[49m\u001b[43mmethod\u001b[49m\u001b[43m=\u001b[49m\u001b[33;43m'\u001b[39;49m\u001b[33;43mNewton-CG\u001b[39;49m\u001b[33;43m'\u001b[39;49m\u001b[43m)\u001b[49m\n\u001b[32m     11\u001b[39m optimal_x = result.x\n\u001b[32m     12\u001b[39m max_y = result.fun  \u001b[38;5;66;03m# Максимальное значение y\u001b[39;00m\n",
      "\u001b[36mFile \u001b[39m\u001b[32mc:\\Users\\kiril\\AppData\\Local\\Programs\\Python\\Python312\\Lib\\site-packages\\scipy\\optimize\\_minimize.py:735\u001b[39m, in \u001b[36mminimize\u001b[39m\u001b[34m(fun, x0, args, method, jac, hess, hessp, bounds, constraints, tol, callback, options)\u001b[39m\n\u001b[32m    733\u001b[39m     res = _minimize_bfgs(fun, x0, args, jac, callback, **options)\n\u001b[32m    734\u001b[39m \u001b[38;5;28;01melif\u001b[39;00m meth == \u001b[33m'\u001b[39m\u001b[33mnewton-cg\u001b[39m\u001b[33m'\u001b[39m:\n\u001b[32m--> \u001b[39m\u001b[32m735\u001b[39m     res = \u001b[43m_minimize_newtoncg\u001b[49m\u001b[43m(\u001b[49m\u001b[43mfun\u001b[49m\u001b[43m,\u001b[49m\u001b[43m \u001b[49m\u001b[43mx0\u001b[49m\u001b[43m,\u001b[49m\u001b[43m \u001b[49m\u001b[43margs\u001b[49m\u001b[43m,\u001b[49m\u001b[43m \u001b[49m\u001b[43mjac\u001b[49m\u001b[43m,\u001b[49m\u001b[43m \u001b[49m\u001b[43mhess\u001b[49m\u001b[43m,\u001b[49m\u001b[43m \u001b[49m\u001b[43mhessp\u001b[49m\u001b[43m,\u001b[49m\u001b[43m \u001b[49m\u001b[43mcallback\u001b[49m\u001b[43m,\u001b[49m\n\u001b[32m    736\u001b[39m \u001b[43m                             \u001b[49m\u001b[43m*\u001b[49m\u001b[43m*\u001b[49m\u001b[43moptions\u001b[49m\u001b[43m)\u001b[49m\n\u001b[32m    737\u001b[39m \u001b[38;5;28;01melif\u001b[39;00m meth == \u001b[33m'\u001b[39m\u001b[33ml-bfgs-b\u001b[39m\u001b[33m'\u001b[39m:\n\u001b[32m    738\u001b[39m     res = _minimize_lbfgsb(fun, x0, args, jac, bounds,\n\u001b[32m    739\u001b[39m                            callback=callback, **options)\n",
      "\u001b[36mFile \u001b[39m\u001b[32mc:\\Users\\kiril\\AppData\\Local\\Programs\\Python\\Python312\\Lib\\site-packages\\scipy\\optimize\\_optimize.py:2004\u001b[39m, in \u001b[36m_minimize_newtoncg\u001b[39m\u001b[34m(fun, x0, args, jac, hess, hessp, callback, xtol, eps, maxiter, disp, return_all, c1, c2, **unknown_options)\u001b[39m\n\u001b[32m   2002\u001b[39m _check_unknown_options(unknown_options)\n\u001b[32m   2003\u001b[39m \u001b[38;5;28;01mif\u001b[39;00m jac \u001b[38;5;129;01mis\u001b[39;00m \u001b[38;5;28;01mNone\u001b[39;00m:\n\u001b[32m-> \u001b[39m\u001b[32m2004\u001b[39m     \u001b[38;5;28;01mraise\u001b[39;00m \u001b[38;5;167;01mValueError\u001b[39;00m(\u001b[33m'\u001b[39m\u001b[33mJacobian is required for Newton-CG method\u001b[39m\u001b[33m'\u001b[39m)\n\u001b[32m   2005\u001b[39m fhess_p = hessp\n\u001b[32m   2006\u001b[39m fhess = hess\n",
      "\u001b[31mValueError\u001b[39m: Jacobian is required for Newton-CG method"
     ]
    }
   ],
   "source": [
    "# Оптимизация\n",
    "\n",
    "def func(x):\n",
    "\treturn\n",
    "\n",
    "def objective(params, model):\n",
    "\tx = np.array(params).reshape(1, -1)\n",
    "\ty_pred = model.predict(x)[0]\n",
    "\treturn y_pred\n",
    "\n",
    "initial_guess = np.mean(x_norm, axis=0)\n",
    "result = basinhopping\n",
    "result = minimize(objective, initial_guess, args=(boost_model), method='Newton-CG')\n",
    "\n",
    "optimal_x = result.x\n",
    "max_y = result.fun  # Максимальное значение y\n",
    "\n",
    "print(min(x_data[0]), min(x_data[1]), min(x_data[2]), min(y_data))\n",
    "print(max(x_data[0]), max(x_data[1]), max(x_data[2]), max(y_data))\n",
    "\n",
    "print(\"Оптимальные параметры x:\", optimal_x.reshape(1, -1))\n",
    "print(\"Максимальное значение y:\", max_y)\n",
    "\n",
    "#print(\"Оптимальные параметры x:\", scaler.inverse_transform(optimal_x.reshape(1, -1)))\n",
    "#print(\"Максимальное значение y:\", max_y)"
   ]
  }
 ],
 "metadata": {
  "kernelspec": {
   "display_name": "Python 3",
   "language": "python",
   "name": "python3"
  },
  "language_info": {
   "codemirror_mode": {
    "name": "ipython",
    "version": 3
   },
   "file_extension": ".py",
   "mimetype": "text/x-python",
   "name": "python",
   "nbconvert_exporter": "python",
   "pygments_lexer": "ipython3",
   "version": "3.12.9"
  }
 },
 "nbformat": 4,
 "nbformat_minor": 2
}
