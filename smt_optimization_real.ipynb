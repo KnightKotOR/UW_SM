{
 "cells": [
  {
   "cell_type": "markdown",
   "metadata": {},
   "source": [
    "# Оптимизация"
   ]
  },
  {
   "cell_type": "code",
   "execution_count": 1,
   "metadata": {},
   "outputs": [],
   "source": [
    "import numpy as np\n",
    "import pandas as pd\n",
    "import torch\n",
    "\n",
    "from scipy.optimize import minimize, basinhopping, shgo\n",
    "from sklearn.preprocessing import StandardScaler\n",
    "from sklearn.model_selection import train_test_split, GridSearchCV\n",
    "from sklearn.metrics import mean_squared_error as mse \n",
    "from sklearn.metrics import r2_score\n",
    "\n",
    "from nw_kernel import NWScikit\n",
    "\n",
    "from catboost import CatBoostRegressor "
   ]
  },
  {
   "cell_type": "code",
   "execution_count": 2,
   "metadata": {},
   "outputs": [
    {
     "data": {
      "text/html": [
       "<div>\n",
       "<style scoped>\n",
       "    .dataframe tbody tr th:only-of-type {\n",
       "        vertical-align: middle;\n",
       "    }\n",
       "\n",
       "    .dataframe tbody tr th {\n",
       "        vertical-align: top;\n",
       "    }\n",
       "\n",
       "    .dataframe thead th {\n",
       "        text-align: right;\n",
       "    }\n",
       "</style>\n",
       "<table border=\"1\" class=\"dataframe\">\n",
       "  <thead>\n",
       "    <tr style=\"text-align: right;\">\n",
       "      <th></th>\n",
       "      <th>Pc</th>\n",
       "      <th>U</th>\n",
       "      <th>t</th>\n",
       "      <th>L</th>\n",
       "      <th>B</th>\n",
       "      <th>Sc</th>\n",
       "      <th>Pp</th>\n",
       "      <th>D</th>\n",
       "    </tr>\n",
       "  </thead>\n",
       "  <tbody>\n",
       "    <tr>\n",
       "      <th>0</th>\n",
       "      <td>2</td>\n",
       "      <td>100</td>\n",
       "      <td>2</td>\n",
       "      <td>21.2</td>\n",
       "      <td>14.0</td>\n",
       "      <td>296.8</td>\n",
       "      <td>1.90</td>\n",
       "      <td>2.17</td>\n",
       "    </tr>\n",
       "    <tr>\n",
       "      <th>1</th>\n",
       "      <td>2</td>\n",
       "      <td>100</td>\n",
       "      <td>2</td>\n",
       "      <td>16.0</td>\n",
       "      <td>12.7</td>\n",
       "      <td>203.2</td>\n",
       "      <td>1.30</td>\n",
       "      <td>5.08</td>\n",
       "    </tr>\n",
       "    <tr>\n",
       "      <th>2</th>\n",
       "      <td>2</td>\n",
       "      <td>100</td>\n",
       "      <td>2</td>\n",
       "      <td>11.0</td>\n",
       "      <td>16.6</td>\n",
       "      <td>182.6</td>\n",
       "      <td>1.17</td>\n",
       "      <td>3.24</td>\n",
       "    </tr>\n",
       "    <tr>\n",
       "      <th>3</th>\n",
       "      <td>3</td>\n",
       "      <td>100</td>\n",
       "      <td>2</td>\n",
       "      <td>13.9</td>\n",
       "      <td>16.3</td>\n",
       "      <td>226.6</td>\n",
       "      <td>2.18</td>\n",
       "      <td>6.06</td>\n",
       "    </tr>\n",
       "    <tr>\n",
       "      <th>4</th>\n",
       "      <td>3</td>\n",
       "      <td>100</td>\n",
       "      <td>2</td>\n",
       "      <td>18.2</td>\n",
       "      <td>14.8</td>\n",
       "      <td>269.4</td>\n",
       "      <td>2.59</td>\n",
       "      <td>1.99</td>\n",
       "    </tr>\n",
       "  </tbody>\n",
       "</table>\n",
       "</div>"
      ],
      "text/plain": [
       "   Pc    U  t     L     B     Sc    Pp     D\n",
       "0   2  100  2  21.2  14.0  296.8  1.90  2.17\n",
       "1   2  100  2  16.0  12.7  203.2  1.30  5.08\n",
       "2   2  100  2  11.0  16.6  182.6  1.17  3.24\n",
       "3   3  100  2  13.9  16.3  226.6  2.18  6.06\n",
       "4   3  100  2  18.2  14.8  269.4  2.59  1.99"
      ]
     },
     "execution_count": 2,
     "metadata": {},
     "output_type": "execute_result"
    }
   ],
   "source": [
    "df = pd.read_csv('data/real_ds_0.csv')\n",
    "df.head()"
   ]
  },
  {
   "cell_type": "code",
   "execution_count": 4,
   "metadata": {},
   "outputs": [],
   "source": [
    "# Преобразование в массивы\n",
    "x_data = np.array(df[['Pc','U','t','L','B','Sc','Pp']].values.tolist())\n",
    "y_data = np.array(df['D'].values.tolist()).reshape([-1,1])\n",
    "x_one_column = x_data.reshape([1, -1]) # Для нормализации преобразование в одномерный\n",
    "\n",
    "# Нормализация\n",
    "scaler = StandardScaler()\n",
    "x_norm = scaler.fit_transform(x_data)"
   ]
  },
  {
   "cell_type": "code",
   "execution_count": null,
   "metadata": {},
   "outputs": [],
   "source": [
    "# Разделение на обучающую и тестовую выборки\n",
    "x_train, x_test, y_train, y_test = train_test_split(x_norm, y_data, test_size=0.2, shuffle=True)"
   ]
  },
  {
   "cell_type": "code",
   "execution_count": 6,
   "metadata": {},
   "outputs": [],
   "source": [
    "# Преобразование в тензоры\n",
    "x_train_tensor = torch.tensor(x_train, dtype=torch.float32)\n",
    "x_test_tensor = torch.tensor(x_test, dtype=torch.float32)\n",
    "\n",
    "y_train_tensor = torch.tensor(y_train, dtype=torch.float32)\n",
    "y_test_tensor = torch.tensor(y_test, dtype=torch.float32)"
   ]
  },
  {
   "cell_type": "code",
   "execution_count": null,
   "metadata": {},
   "outputs": [],
   "source": [
    "# Поиск оптимальных параметров\n",
    "model = NWScikit(\n",
    "        dist_mode='nam',\n",
    "        batch_size=24,\n",
    "        x_val=x_train_tensor, y_val=y_train_tensor,\n",
    "        kernel_fit_background=True,\n",
    "        optimizer='Adam',\n",
    "        lr=1e-3,\n",
    "        weight_decay=0,\n",
    "        background_lr=1e-3,\n",
    "        background_weight_decay=0,\n",
    "        epoch_n=100,\n",
    "        pred_batch_size=16,\n",
    "        verbose=False,\n",
    "        verbose_tqdm=True,\n",
    "        n_neurons=8,\n",
    "        n_layers=3,\n",
    "        batch_norm=True,\n",
    "        problem_mode='reg'\n",
    "    )\n",
    "\n",
    "param_grid = {'batch_size': [16, 24, 50, 100, 200],\n",
    "              'dist_mode': ['nam', 'mlp'],\n",
    "\t\t\t  'epoch_n': [50, 75, 100, 200],\n",
    "\t\t\t  'n_neurons': [8, 16, 32, 64, 128, 256, 512],\n",
    "\t\t\t  'n_layers': [1, 2, 3, 4],\n",
    "\t\t\t  'optimizer': ['SGD', 'Adam']}\n",
    "\n",
    "#param_grid = {'batch_size': [16, 24, 50, 100, 200],\n",
    "#              'dist_mode': ['nam', 'mlp'],}\n",
    "\n",
    "search = GridSearchCV(model, param_grid, scoring='r2', n_jobs=-1)\n",
    "search.fit(X=pd.DataFrame(x_train_tensor), y=y_train_tensor.detach().cpu().numpy())\n",
    "results_df = pd.DataFrame(search.cv_results_)\n",
    "\n",
    "print(\"Best Parameters: \", search.best_params_)\n",
    "print(\"Best Cross-validation Score: \", search.best_score_)"
   ]
  },
  {
   "cell_type": "code",
   "execution_count": 7,
   "metadata": {},
   "outputs": [
    {
     "name": "stdout",
     "output_type": "stream",
     "text": [
      "[10.7] 10.597987467470697\n",
      "Training R2:  0.9924763734259026\n",
      "(array([2.98]), 5.798370973998657)\n",
      "Testing R2:  0.0805650476040165\n"
     ]
    }
   ],
   "source": [
    "boost_model = \tCatBoostRegressor(\n",
    "\t\t\t\tloss_function='RMSE',\n",
    "\t\t\t\tdepth=4,\n",
    "\t\t\t\titerations=500,\n",
    "\t\t\t\trsm=1,\n",
    "\t\t\t\tleaf_estimation_iterations=20,\n",
    "\t\t\t\trandom_seed=42\n",
    "\t\t\t\t)\n",
    "\n",
    "boost_model.fit(x_train, y_train, verbose=0)\n",
    "\n",
    "y_train_pred = boost_model.predict(x_train) \n",
    "y_test_pred = boost_model.predict(x_test) \n",
    "\n",
    "print(y_train[0], y_train_pred[0])\n",
    "print(\"Training R2: \", r2_score(y_train, y_train_pred))\n",
    "print((y_test[0], y_test_pred[0]))\n",
    "print(\"Testing R2: \", r2_score(y_test, y_test_pred))"
   ]
  },
  {
   "cell_type": "code",
   "execution_count": null,
   "metadata": {},
   "outputs": [
    {
     "name": "stdout",
     "output_type": "stream",
     "text": [
      "Best Parameters:  {'depth': 4, 'iterations': 100, 'leaf_estimation_iterations': 20, 'logging_level': 'Silent', 'random_seed': 42, 'rsm': 0.8}\n",
      "Best Cross-validation Score:  -9.374696796570978\n"
     ]
    }
   ],
   "source": [
    "boost_param_grid = {'iterations': [100, 250, 500, 1000],\n",
    "          \t\t\t'depth': [2, 4, 8],\n",
    "          \t\t\t'logging_level':['Silent'],\n",
    "\t\t\t\t\t'rsm': [0.8, 1.0],\n",
    "\t\t\t\t\t'leaf_estimation_iterations': [10, 20, 40],\n",
    "          \t\t\t'random_seed': [42]}\n",
    "\n",
    "boost_search = GridSearchCV(boost_model, boost_param_grid, scoring='r2', n_jobs=-1)\n",
    "boost_search.fit(X=pd.DataFrame(x_train_tensor), y=y_train_tensor.detach().cpu().numpy())\n",
    "\n",
    "print(\"Best Parameters: \", boost_search.best_params_)\n",
    "print(\"Best Cross-validation Score: \", boost_search.best_score_)"
   ]
  },
  {
   "cell_type": "code",
   "execution_count": null,
   "metadata": {},
   "outputs": [],
   "source": [
    "# MSE\n",
    "pd.concat([pd.DataFrame(search.cv_results_[\"params\"]),pd.DataFrame(search.cv_results_[\"mean_test_score\"], columns=[\"Accuracy\"])],axis=1).sort_values('Accuracy', ascending=False)"
   ]
  },
  {
   "cell_type": "code",
   "execution_count": null,
   "metadata": {},
   "outputs": [],
   "source": [
    "# Оптимизация\n",
    "\n",
    "def func(x):\n",
    "\treturn\n",
    "\n",
    "def objective(params):\n",
    "\tx = np.array(params).reshape(1, -1)\n",
    "\ty_pred = boost_model.predict(x)[0]\n",
    "\treturn -y_pred\n",
    "\n",
    "initial_guess = np.mean(x_norm, axis=0)\n",
    "bounds = [(0, 100),(0, 100),(0, 100)]\n",
    "#bounds = [(None, None), ]*3\n",
    "\n",
    "#result = shgo(objective, bounds, n=1000)\n",
    "result = basinhopping(objective, initial_guess, niter=10000)\n",
    "#result = minimize(objective, initial_guess, args=(boost_model), method='Newton-CG')\n",
    "\n",
    "optimal_x = result.x\n",
    "max_y = result.fun  # Максимальное значение y\n",
    "\n",
    "print(\"Оптимальные параметры x:\", optimal_x.reshape(1, -1))\n",
    "print(\"Максимальное значение y:\", -max_y)\n",
    "\n",
    "#print(\"Оптимальные параметры x:\", scaler.inverse_transform(optimal_x.reshape(1, -1)))\n",
    "#print(\"Максимальное значение y:\", max_y)"
   ]
  }
 ],
 "metadata": {
  "kernelspec": {
   "display_name": "Python 3",
   "language": "python",
   "name": "python3"
  },
  "language_info": {
   "codemirror_mode": {
    "name": "ipython",
    "version": 3
   },
   "file_extension": ".py",
   "mimetype": "text/x-python",
   "name": "python",
   "nbconvert_exporter": "python",
   "pygments_lexer": "ipython3",
   "version": "3.12.9"
  }
 },
 "nbformat": 4,
 "nbformat_minor": 2
}
